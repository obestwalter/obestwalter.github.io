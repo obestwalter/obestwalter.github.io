{
 "cells": [
  {
   "cell_type": "raw",
   "metadata": {},
   "source": [
    "\n",
    "title: Obligatory meta article about my website\n",
    "---\n",
    "mtime: 2019-11-03\n",
    "---\n",
    "crtime: 2019-11-03\n",
    "---\n",
    "tags:\n",
    "\n",
    "meta\n",
    "python\n",
    "lektor\n",
    "jupyter\n",
    "diy\n",
    "---\n",
    "summary:\n",
    "\n",
    "![a normal day in the office (keeping the lab equipment from exploding)](normal-day-at-the-office.gif)\n",
    "\n",
    "When I was hyping myself up to write the second article on my website after almost 3 years I naturally had a look how I can busy myself with everything else but writing the actual article (while still fooling myself into believing this is a necessary preparation for ... **just writing the darn article**. But I think the work in my website generation laboratory was worth the fuzz this time, as I quite enjoy the new workflow. I enjoy it so much, that I am actually publishing articles now. I now can write code sprinkled articles in a Jupyter notebook and have them rendered automatically into my lektor generated website using a bit of Python code hooked into lektors plugin system.\n",
    "\n",
    "---\n",
    "content:\n"
   ]
  },
  {
   "cell_type": "markdown",
   "metadata": {
    "pycharm": {
     "name": "#%% md\n"
    }
   },
   "source": [
    "It is a never ending story: every time I want to write an article to publish on my website, I change my blog engine instead. At some point I even created my own [static website generator](https://github.com/obestwalter/loslassa). All this fuzz just to avoid actually writing things to ... you know ... put on a website :). This might be excused by the fact that I really enjoy spending my leisure time tinkering with things aimlessly rather then actually producing something that might be useful, but I finally started seeing through my evil self-sabotage mechanisms and was determined to put a stop to it! So I did the natural thing: I went to my lab[^1] and tinkered with the engine.\n",
    "\n",
    "[^1]: Can anyone tell me from which film this gif is? I found it on [tenor](https://tenor.com/view/scientist-mad-scientist-experiment-lab-laboratory-gif-11957205) and would like to give proper credit\n",
    "\n",
    "## Ingredients\n",
    "\n",
    "### 1) A static website generator generator (sic!)\n",
    "\n",
    "I played with a lot of blog engines over the years - while never really blogging anything. I mostly work in backend development, but there is something that fascinates me about web design and web development. It's one of these things I guess :). \n",
    "\n",
    "I am particularly fond of static website generators that provide a workflow that is similar to developing software. I played with [pelican](https://blog.getpelican.com/), [jekyll](https://jekyllrb.com/), [hugo](https://gohugo.io/), [nikola](https://getnikola.com/), [flask](https://flask.palletsprojects.com/) + [frozen-flask](https://github.com/Frozen-Flask/Frozen-Flask) and the lot. As already mentioned: I even wrote my own [sphinx](https://www.sphinx-doc.org/) based generator ... while still never really blogging anything. \n",
    "\n",
    "At the beginning of 2017 I made a deal with a colleague that I would finally write a blog article about the pytest development sprint and a bit about my involvement. It would have been boring though if I would have used the site I had already online (last incarnation was a simple [mkdocs](https://www.mkdocs.org/) driven [thing](https://github.com/obestwalter/obestwalter.github.io/blob/1.0.0/docs/index.md)). It would also have been boring to at least use one of the engines I already knew. Using something utterly profane like medium or wordpress was obviously completely out of the question! I mean, I could have just written the article then and be done with it. Who wants that? Right. Not me. So I started looking around for the next thing that could keep me from writing that article and I stumbled over [lektor](https://www.getlektor.com/). Now this was something that could keep me busy for a while as it is not simply a static website generator, but rather something that you can use to build a static website generator with - **a website generator generator**! Long story short: I set that up from scratch with a [simple sass style](https://github.com/obestwalter/obestwalter.github.io/blob/lektor-sources/_style/style.sass), wrote a [little plugin](https://github.com/obestwalter/obestwalter.github.io/blob/lektor-sources/packages/lektor-sass/lektor_sass.py) to integrate that into lektors development server, and finally actually wrote and [published that article](/articles/becoming-an-open-source-gardener/). Nobody ever made a deal with me again that forced me to write another article, so that was it. I had unlocked the *\"i-have-a-blog-but-i-never-blog-achievement\"* once again - only on a higher level. Until very recently.\n",
    "\n",
    "Because very recently I realized that I had produced a lot of material while trying to teach Python and test automation to all kinds of folks over the last years. I finally wanted to start sharing some of these materials on my website. As making strange deals seems to work with my contorted psyche, I made a deal with myself to publish at least one article a month for at least a year.\n",
    "\n",
    "This time I successfully resisted the temptation to start from scratch again and simply updated lektor and adjusted the existing setup to fit my new needs. The new needs arose from the fact that I work mostly in Jupyter Notebooks nowadays, when creating learning materials and I like it, so I want to write articles like that and have them integrate into my website. \n",
    "\n",
    "So the first ingredient stayed the same and is still lektor.\n",
    " \n",
    "## 2) Jupyter notebooks\n",
    "\n",
    "!!!! I was really determined this time to just make this work as quick and dirty as possible, so that I can do some actual writing. So this might be all horribly wrong, but it works well enough. As I am the only user I don't mind if things are a bit quirky as long as I understand what's going on.\n",
    "\n",
    "Lektor generates the website from markdown by default. It has a plugin system that could theoretically be used to generate them from something else entirely and that is the usual approach that I have seen in other Jupyter integrations. Doing it that way would mean though that I have to teach nbconvert to generate HTML that is compatible with the HTML that I create from pure markdown and re-implement all the extra functionality that comes for free when generating it through lektor, so instead I chose to generate markdown from the Jupyter notebook. This way from lektors point of view nothing changed and I was able to keep everything the same on that level. I can also still write articles directly in lektors markdown, if I choose to. So all I needed to do was adding a pre-processing step that generates markdown from the notebook.\n",
    "\n",
    "Generating markdown from a notebook comes out of the box via `nbconvert` - so if you take a notebook that looks like this in the browser:\n",
    "\n",
    "[![](jupyter-notebook-orig.png)]()\n",
    "\n",
    "and convert it like `jupyter-nbconvert --to markdown example-notebook.ipynb` you'll get an `example-notebook-markdown.md` that contains this:"
   ]
  },
  {
   "cell_type": "markdown",
   "source": [
    "    This is a raw cell, it will stay unchanged.\n",
    "    \n",
    "    ## This is a header in a markdown cell\n",
    "    \n",
    "    This is a paragraph in a markdown cell. It will be rendered and provides all kinds of fancy things.\n",
    "    \n",
    "    ```python\n",
    "    # this is a code cell containing Python code - it can be executed\n",
    "    # and the output will be shown in the notebook\n",
    "    print(\"I the output of a code cell.\")\n",
    "    2 + 5  # The evaluated result on the last line, will also be shown\n",
    "    ```\n",
    "    \n",
    "        I the output of a code cell.\n",
    "    \n",
    "        7\n",
    "    \n",
    "    ```python\n",
    "    from pathlib import Path\n",
    "    \n",
    "    # this will throw an exception\n",
    "    Path(\"idontexist\").read_text()\n",
    "    ```\n",
    "    \n",
    "        ---------------------------------------------------------------------------\n",
    "    \n",
    "        FileNotFoundError                         Traceback (most recent call last)\n",
    "    \n",
    "        <ipython-input-2-1980b319f594> in <module>\n",
    "              2 \n",
    "              3 # this will throw an exception\n",
    "        ----> 4 Path(\"idontexist\").read_text()\n",
    "        \n",
    "    \n",
    "        /usr/local/lib/python3.8/pathlib.py in read_text(self, encoding, errors)\n",
    "           1206         Open the file in text mode, read it, and close the file.\n",
    "           1207         \"\"\"\n",
    "        -> 1208         with self.open(mode='r', encoding=encoding, errors=errors) as f:\n",
    "           1209             return f.read()\n",
    "           1210 \n",
    "    \n",
    "    \n",
    "        /usr/local/lib/python3.8/pathlib.py in open(self, mode, buffering, encoding, errors, newline)\n",
    "           1192         if self._closed:\n",
    "           1193             self._raise_closed()\n",
    "        -> 1194         return io.open(self, mode, buffering, encoding, errors, newline,\n",
    "           1195                        opener=self._opener)\n",
    "           1196 \n",
    "    \n",
    "    \n",
    "        /usr/local/lib/python3.8/pathlib.py in _opener(self, name, flags, mode)\n",
    "           1046     def _opener(self, name, flags, mode=0o666):\n",
    "           1047         # A stub for the opener argument to built-in open()\n",
    "        -> 1048         return self._accessor.open(self, flags, mode)\n",
    "           1049 \n",
    "           1050     def _raw_open(self, flags, mode=0o777):\n",
    "    \n",
    "    \n",
    "        FileNotFoundError: [Errno 2] No such file or directory: 'idontexist'\n",
    "    \n",
    "\n",
    "let's look at an example notebook and its markdown output using vanilla nbconvert:"
   ],
   "metadata": {
    "collapsed": false,
    "pycharm": {
     "name": "#%% md\n"
    }
   }
  },
  {
   "cell_type": "markdown",
   "source": [
    "## 3) A lektor plugin to generate articles from a Jupyter notebook\n",
    "\n",
    "XXX\n",
    "\n",
    "## 4) A simple tox based development and publishing workflow"
   ],
   "metadata": {
    "collapsed": false,
    "pycharm": {
     "name": "#%% md\n"
    }
   }
  }
 ],
 "metadata": {
  "kernelspec": {
   "display_name": "Python 3",
   "language": "python",
   "name": "python3"
  },
  "language_info": {
   "codemirror_mode": {
    "name": "ipython",
    "version": 3
   },
   "file_extension": ".py",
   "mimetype": "text/x-python",
   "name": "python",
   "nbconvert_exporter": "python",
   "pygments_lexer": "ipython3",
   "version": "3.6.9"
  },
  "pycharm": {
   "stem_cell": {
    "cell_type": "raw",
    "source": [],
    "metadata": {
     "collapsed": false
    }
   }
  }
 },
 "nbformat": 4,
 "nbformat_minor": 1
}
