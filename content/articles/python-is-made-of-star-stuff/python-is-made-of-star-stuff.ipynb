{
 "cells": [
  {
   "cell_type": "raw",
   "metadata": {},
   "source": [
    "title: Python is made of star-stuff\n",
    "---\n",
    "crtime: 2019-10-27\n",
    "---\n",
    "mtime: 2019-10-27\n",
    "---\n",
    "tags:\n",
    "\n",
    "python\n",
    "fundamentals\n",
    "little-things\n",
    "---\n",
    "summary:\n",
    "\n",
    "[![hubble telescope picture of messier9 star cluster](hubble-messier9.jpg)](https://www.nasa.gov/mission_pages/hubble/science/messier9.html)\n",
    "\n",
    "Carl Sagan wrote in Cosmos that we are all made of \"star-stuff\". I think this is important to become aware of now and then. All of the elements that make life on earth possible were formed in a star at some point. It puts things into perspective if we can remember that life is a miracle in the sense that we fundamentally have no clue **how** all this is possible and **why** we run around on this rock hurtling through space. You ask yourself what this has to do with Python? Right - nothing, but obvioulsy the humans who create Python are made of star-stuff and I like to believe that their deep sense of wonder about the miracle of life has inspired them to put so darn many stars into its syntax. \n",
    "\n",
    "---\n",
    "content:\n"
   ]
  },
  {
   "cell_type": "code",
   "execution_count": null,
   "outputs": [],
   "source": [
    "%load star-stuff.py"
   ],
   "metadata": {
    "collapsed": false,
    "pycharm": {
     "name": "#%%\n"
    }
   }
  },
  {
   "cell_type": "markdown",
   "source": [
    "The innocent little **star** is a very versatile syntax element and operator. Let's have a look at all of its uses in Python."
   ],
   "metadata": {
    "collapsed": false
   }
  },
  {
   "cell_type": "markdown",
   "source": [
    "## Boring things first: `*` and `**` operators\n",
    "\n",
    "One of the first things a new Python disciple might learn is how to use Python as a calculator - `*` is the multiplication operator and `**` is used for exponentiation."
   ],
   "metadata": {
    "collapsed": false
   }
  },
  {
   "cell_type": "code",
   "execution_count": 1,
   "outputs": [
    {
     "data": {
      "text/plain": "16"
     },
     "metadata": {},
     "output_type": "execute_result",
     "execution_count": 1
    }
   ],
   "source": [
    "2 * 2 * 2 * 2  # simple multiplication"
   ],
   "metadata": {
    "collapsed": false,
    "pycharm": {
     "name": "#%%\n",
     "is_executing": false
    }
   }
  },
  {
   "cell_type": "code",
   "execution_count": null,
   "outputs": [],
   "source": [
    "2 ** 4         # same using exponentiation"
   ],
   "metadata": {
    "collapsed": false,
    "pycharm": {
     "name": "#%%\n"
    }
   }
  },
  {
   "cell_type": "code",
   "execution_count": 40,
   "outputs": [
    {
     "data": {
      "text/plain": "'spamspamspam'"
     },
     "metadata": {},
     "output_type": "execute_result",
     "execution_count": 40
    }
   ],
   "source": [
    "\"spam\" * 3     # strings can be multiplied with ints"
   ],
   "metadata": {
    "collapsed": false,
    "pycharm": {
     "name": "#%%\n",
     "is_executing": false
    }
   }
  },
  {
   "cell_type": "markdown",
   "source": [
    "### Pack and unpack arguments"
   ],
   "metadata": {
    "collapsed": false
   }
  },
  {
   "cell_type": "code",
   "execution_count": null,
   "outputs": [],
   "source": [
    "def foo(*args, **kwargs):\n",
    "    bar(*args, **kwargs)\n",
    "\n",
    "def bar(a, b, c=None, d=None):\n",
    "    print(a, b ,c, d)\n",
    "    \n",
    "foo(*[1, 2], **dict(c=3, d=4))"
   ],
   "metadata": {
    "collapsed": false,
    "pycharm": {
     "name": "#%%\n"
    }
   }
  },
  {
   "cell_type": "markdown",
   "source": [
    "## Enforce the API of your function: keyword only arguments\n",
    "\n",
    "https://www.python.org/dev/peps/pep-3102/"
   ],
   "metadata": {
    "collapsed": false
   }
  },
  {
   "cell_type": "code",
   "execution_count": null,
   "outputs": [],
   "source": [
    "def foo(a, *, b=None, x=1):\n",
    "    print(a, b, x)\n",
    "          \n",
    "foo(1, 2)"
   ],
   "metadata": {
    "collapsed": false,
    "pycharm": {
     "name": "#%%\n"
    }
   }
  },
  {
   "cell_type": "code",
   "execution_count": null,
   "outputs": [],
   "source": [
    "foo(b=2, a=1, x=3)"
   ],
   "metadata": {
    "collapsed": false,
    "pycharm": {
     "name": "#%%\n"
    }
   }
  },
  {
   "cell_type": "markdown",
   "source": [],
   "metadata": {
    "collapsed": false
   }
  },
  {
   "cell_type": "markdown",
   "metadata": {
    "slideshow": {
     "slide_type": "fragment"
    }
   },
   "source": [
    "### Elegant tuple unpacking (actually: sequence unpacking)"
   ]
  },
  {
   "cell_type": "code",
   "execution_count": 18,
   "metadata": {
    "slideshow": {
     "slide_type": "fragment"
    },
    "pycharm": {
     "is_executing": false
    }
   },
   "outputs": [
    {
     "name": "stdout",
     "text": [
      "egg is <class 'str'>\na, b, c  -> e g g\n*a, b = seq -> ['e', 'g'] g\na, *b = seq -> e ['g', 'g']\n\n[1, 2, 3] is <class 'list'>\na, b, c  -> 1 2 3\n*a, b = seq -> [1, 2] 3\na, *b = seq -> 1 [2, 3]\n\n(1, 2, 3) is <class 'tuple'>\na, b, c  -> 1 2 3\n*a, b = seq -> [1, 2] 3\na, *b = seq -> 1 [2, 3]\n\n{1, 2, 3} is <class 'set'>\na, b, c  -> 1 2 3\n*a, b = seq -> [1, 2] 3\na, *b = seq -> 1 [2, 3]\n\n{1: 'a', 2: 'b', 3: 'c'} is <class 'dict'>\na, b, c  -> 1 2 3\n*a, b = seq -> [1, 2] 3\na, *b = seq -> 1 [2, 3]\n\n"
     ],
     "output_type": "stream"
    }
   ],
   "source": [
    "for seq in [\"egg\", [1, 2, 3], (1, 2, 3), {1, 2, 3}, {1: 'a', 2: 'b', 3: 'c'}]:\n",
    "    print(f\"{seq} is {type(seq)}\")\n",
    "    a, b, c = seq\n",
    "    print(f\"a, b, c  -> {a} {b} {c}\")\n",
    "    *a, b = seq\n",
    "    print(f\"*a, b = seq -> {a} {b}\")\n",
    "    a, *b = seq\n",
    "    print(f\"a, *b = seq -> {a} {b}\\n\")"
   ]
  },
  {
   "cell_type": "code",
   "execution_count": 5,
   "metadata": {
    "pycharm": {
     "is_executing": false
    }
   },
   "outputs": [
    {
     "data": {
      "text/plain": "(1, 2, [3, 4])"
     },
     "metadata": {},
     "output_type": "execute_result",
     "execution_count": 5
    }
   ],
   "source": [
    "l = [1, 2, 3, 4]\n",
    "a, b, *c = l\n",
    "a, b, c\n",
    "\n",
    "### star stuff: merge stuff"
   ]
  },
  {
   "cell_type": "code",
   "execution_count": null,
   "metadata": {
    "slideshow": {
     "slide_type": "fragment"
    },
    "pycharm": {
     "is_executing": false
    }
   },
   "outputs": [],
   "source": [
    "a, b = [1, 2, 3], [4, 5, 6]"
   ]
  },
  {
   "cell_type": "code",
   "execution_count": null,
   "metadata": {
    "slideshow": {
     "slide_type": "fragment"
    },
    "pycharm": {
     "is_executing": false
    }
   },
   "outputs": [],
   "source": [
    "a, b"
   ]
  },
  {
   "cell_type": "code",
   "execution_count": null,
   "metadata": {
    "slideshow": {
     "slide_type": "fragment"
    },
    "pycharm": {
     "is_executing": false
    }
   },
   "outputs": [],
   "source": [
    "[*a, *b]"
   ]
  },
  {
   "cell_type": "code",
   "execution_count": null,
   "metadata": {
    "slideshow": {
     "slide_type": "fragment"
    },
    "pycharm": {
     "is_executing": false
    }
   },
   "outputs": [],
   "source": [
    "a, b = {1: 2, 2: 3, 3: 4}, {1: 4, 4: 5, 5: 6}\n",
    "a, b"
   ]
  },
  {
   "cell_type": "code",
   "execution_count": null,
   "metadata": {
    "slideshow": {
     "slide_type": "fragment"
    },
    "pycharm": {
     "is_executing": false
    }
   },
   "outputs": [],
   "source": [
    "{**a, **b}"
   ]
  },
  {
   "cell_type": "code",
   "execution_count": null,
   "metadata": {
    "slideshow": {
     "slide_type": "fragment"
    },
    "pycharm": {
     "is_executing": false
    }
   },
   "outputs": [],
   "source": [
    "a, b = {1, 2 ,3}, {3, 4 ,5}"
   ]
  },
  {
   "cell_type": "code",
   "execution_count": null,
   "metadata": {
    "slideshow": {
     "slide_type": "fragment"
    },
    "pycharm": {
     "is_executing": false
    }
   },
   "outputs": [],
   "source": [
    "{*a, *b}  "
   ]
  },
  {
   "cell_type": "code",
   "execution_count": null,
   "metadata": {
    "slideshow": {
     "slide_type": "fragment"
    },
    "pycharm": {
     "is_executing": false
    }
   },
   "outputs": [],
   "source": [
    "a | b  # this is the more \"natural\" approach for sets though (union)"
   ]
  },
  {
   "cell_type": "markdown",
   "metadata": {
    "slideshow": {
     "slide_type": "slide"
    }
   },
   "source": [
    "### star stuff: merge stuff (you can really mix and match)"
   ]
  },
  {
   "cell_type": "code",
   "execution_count": null,
   "metadata": {
    "slideshow": {
     "slide_type": "fragment"
    },
    "pycharm": {
     "is_executing": false
    }
   },
   "outputs": [],
   "source": [
    "a =[1, 2 ,3]   # list\n",
    "b = {3, 4 ,5}  # set\n",
    "(*a, *b)       # create tuple"
   ]
  },
  {
   "cell_type": "markdown",
   "metadata": {
    "slideshow": {
     "slide_type": "slide"
    }
   },
   "source": [
    "### star stuff: merge stuff: no nesting: last one wins"
   ]
  },
  {
   "cell_type": "code",
   "execution_count": null,
   "outputs": [],
   "source": [
    "a = {\"a\": 1, \"foo\": { \"a\": 1}}\n",
    "b = {\"a\": 1, \"foo\": { \"b\": 2, \"c\": 3}}\n"
   ],
   "metadata": {
    "collapsed": false,
    "pycharm": {
     "name": "#%%\n"
    }
   }
  },
  {
   "cell_type": "markdown",
   "metadata": {
    "slideshow": {
     "slide_type": "fragment"
    },
    "pycharm": {
     "is_executing": false,
     "name": "#%% md\n"
    }
   },
   "source": [
    "This will not merge the nested dict foo, but overwrite it:"
   ]
  },
  {
   "cell_type": "code",
   "execution_count": null,
   "metadata": {
    "slideshow": {
     "slide_type": "fragment"
    },
    "pycharm": {
     "is_executing": false
    }
   },
   "outputs": [],
   "source": [
    "{**a, **b}"
   ]
  },
  {
   "cell_type": "markdown",
   "source": [
    "## Import all the things\n",
    "\n",
    "The star is also involved in something that is usually an [antipattern](http://wiki.c2.com/?AntiPattern) and it looks like this:"
   ],
   "metadata": {
    "collapsed": false
   }
  },
  {
   "cell_type": "code",
   "execution_count": null,
   "outputs": [],
   "source": [
    "from sys import *"
   ],
   "metadata": {
    "collapsed": false,
    "pycharm": {
     "name": "#%%\n"
    }
   }
  },
  {
   "cell_type": "markdown",
   "source": [
    "this is usually not a good idea because:\n",
    "\n",
    "* static code analysis tools can't warn you about unresolved references\n",
    "* it causes namespace pollution which might badly break your code (e.g. if a module you import all the names from redefines `open` or some other inbuilt)\n",
    "* you can't see easily from where a name was imported\n",
    "\n",
    "If a package (or module[^1]) is explicitly designed to be imported like this, this is usually documented and the authors defined the special module attribute   [`__all__`](https://docs.python.org/3/tutorial/modules.html?highlight=__all__#importing-from-a-package) that explicitly lists the names that should be imported when using `from <module or package> import *` \n",
    "\n",
    "[^1]: I'm either not seeing it or the Python documentation is omitting that `__all__` also works for modules. It does though ... I tried it."
   ],
   "metadata": {
    "collapsed": false
   }
  },
  {
   "cell_type": "markdown",
   "metadata": {
    "slideshow": {
     "slide_type": "slide"
    },
    "pycharm": {
     "name": "#%% md\n"
    }
   },
   "source": [
    "## honorable mentions\n",
    "\n",
    "not quite as part of the syntax but ...\n",
    "\n",
    "* regex\n",
    "* glob\n",
    "\n",
    "## Did I forget something?\n",
    "\n",
    "Please let me know if I left out a valid usage of the star in Python.\n",
    "\n",
    "\n"
   ]
  }
 ],
 "metadata": {
  "celltoolbar": "Slideshow",
  "kernelspec": {
   "display_name": "Python 3",
   "language": "python",
   "name": "python3"
  },
  "language_info": {
   "codemirror_mode": {
    "name": "ipython",
    "version": 3
   },
   "file_extension": ".py",
   "mimetype": "text/x-python",
   "name": "python",
   "nbconvert_exporter": "python",
   "pygments_lexer": "ipython3",
   "version": "3.6.9"
  },
  "varInspector": {
   "cols": {
    "lenName": 16,
    "lenType": 16,
    "lenVar": 40
   },
   "kernels_config": {
    "python": {
     "delete_cmd_postfix": "",
     "delete_cmd_prefix": "del ",
     "library": "var_list.py",
     "varRefreshCmd": "print(var_dic_list())"
    },
    "r": {
     "delete_cmd_postfix": ") ",
     "delete_cmd_prefix": "rm(",
     "library": "var_list.r",
     "varRefreshCmd": "cat(var_dic_list()) "
    }
   },
   "types_to_exclude": [
    "module",
    "function",
    "builtin_function_or_method",
    "instance",
    "_Feature"
   ],
   "window_display": false
  },
  "pycharm": {
   "stem_cell": {
    "cell_type": "raw",
    "source": [],
    "metadata": {
     "collapsed": false
    }
   }
  }
 },
 "nbformat": 4,
 "nbformat_minor": 2
}
