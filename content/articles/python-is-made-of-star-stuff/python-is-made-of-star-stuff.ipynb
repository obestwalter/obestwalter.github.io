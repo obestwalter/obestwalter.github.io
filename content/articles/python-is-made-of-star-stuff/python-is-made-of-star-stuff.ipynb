{
 "cells": [
  {
   "cell_type": "raw",
   "metadata": {},
   "source": [
    "title: Python is made of star-stuff\n",
    "---\n",
    "crtime: 2019-11-02\n",
    "---\n",
    "mtime: 2019-11-02\n",
    "---\n",
    "tags:\n",
    "\n",
    "python\n",
    "fundamentals\n",
    "little-things\n",
    "---\n",
    "summary:\n",
    "\n",
    "[![hubble telescope picture of messier9 star cluster](hubble-messier9.jpg)](https://www.nasa.gov/mission_pages/hubble/science/messier9.html)\n",
    "\n",
    "Carl Sagan wrote in Cosmos that we are all made of \"star-stuff\". I think this is important to become aware of now and then. All of the elements that make life on earth possible were formed in a star at some point. It puts things into perspective if we can remember that life is a miracle in the sense that we fundamentally have no clue **how** all this is possible and **why** we run around on this rock hurtling through space. You ask yourself what this has to do with Python? Right - nothing, but obvioulsy the humans involved in the development of Python are also made of star-stuff and I like to believe that their deep sense of wonder about the miracle of life has inspired them to put so darn many stars into its syntax. \n",
    "\n",
    "---\n",
    "content:\n"
   ]
  },
  {
   "cell_type": "markdown",
   "source": [
    "The innocent little **&#10033;** (star or asterisk) is a very versatile syntax element and operator in most programming languages. Let's look at its uses in Python:"
   ],
   "metadata": {
    "collapsed": false,
    "pycharm": {
     "name": "#%% md\n"
    }
   }
  },
  {
   "cell_type": "code",
   "execution_count": 2,
   "outputs": [],
   "source": [
    "# Yes. This code makes no sense. Thanks for pointing it out.\n",
    "\n",
    "from os import *\n",
    "\n",
    "def sparkle_appender(*, end=linesep):\n",
    "    def _sparkle_appender(function):\n",
    "        def star_reporter(*args, **kwargs):\n",
    "            print(*args, **kwargs, end=end)\n",
    "            return function(*args, **kwargs)\n",
    "        return star_reporter\n",
    "    return _sparkle_appender\n",
    "\n",
    "@sparkle_appender(end=\" ❇❇❇\" + linesep)\n",
    "def wrapped(stars, bars):\n",
    "    first, *middle, last = stars\n",
    "    for elem in [*middle, last, *bars]:\n",
    "        first *= 2 ** elem\n",
    "    return first"
   ],
   "metadata": {
    "collapsed": false,
    "pycharm": {
     "name": "#%%\n",
     "is_executing": false
    }
   }
  },
  {
   "cell_type": "markdown",
   "source": [
    "## Simple things first: &#10033; and &#10033;&#10033; operators\n",
    "\n",
    "One of the first things a new Python disciple might learn is how to use Python as a calculator - like in many other languages &#10033; is the multiplication operator and &#10033;&#10033; is used for exponentiation - e.g.:"
   ],
   "metadata": {
    "collapsed": false
   }
  },
  {
   "cell_type": "code",
   "execution_count": 3,
   "outputs": [
    {
     "data": {
      "text/plain": "4"
     },
     "metadata": {},
     "output_type": "execute_result",
     "execution_count": 3
    }
   ],
   "source": [
    "2 * 2"
   ],
   "metadata": {
    "collapsed": false,
    "pycharm": {
     "name": "#%%\n",
     "is_executing": false
    }
   }
  },
  {
   "cell_type": "code",
   "execution_count": 4,
   "outputs": [
    {
     "data": {
      "text/plain": "16"
     },
     "metadata": {},
     "output_type": "execute_result",
     "execution_count": 4
    }
   ],
   "source": [
    "2 ** 4"
   ],
   "metadata": {
    "collapsed": false,
    "pycharm": {
     "name": "#%%\n",
     "is_executing": false
    }
   }
  },
  {
   "cell_type": "code",
   "execution_count": 5,
   "outputs": [
    {
     "data": {
      "text/plain": "'spamspamspam'"
     },
     "metadata": {},
     "output_type": "execute_result",
     "execution_count": 5
    }
   ],
   "source": [
    "'spam' * 3\n"
   ],
   "metadata": {
    "collapsed": false,
    "pycharm": {
     "name": "#%%\n",
     "is_executing": false
    }
   }
  },
  {
   "cell_type": "markdown",
   "source": [
    "Although it makes no sense, the star-spangled code example further up actually works. If you look at the `wrapped` function, &#10033; is used as a boring old mathematical operator: `first *= 2 ** elem` (which is the same as `first = first * 2 ** elem`)."
   ],
   "metadata": {
    "collapsed": false,
    "pycharm": {
     "name": "#%% md\n"
    }
   }
  },
  {
   "cell_type": "code",
   "execution_count": 6,
   "outputs": [
    {
     "name": "stdout",
     "text": [
      "[1, 2, 3, 4] (23, 42) ❇❇❇\nresult of calculation: 18889465931478580854784\n"
     ],
     "output_type": "stream"
    }
   ],
   "source": [
    "result = wrapped([1, 2, 3, 4], (23, 42))\n",
    "print(\"result of calculation:\", result)"
   ],
   "metadata": {
    "collapsed": false,
    "pycharm": {
     "name": "#%%\n",
     "is_executing": false
    }
   }
  },
  {
   "cell_type": "markdown",
   "source": [
    "## Enforcing the API of a function\n",
    "\n",
    "If your function needs 23 arguments you have a big problem anyway but you can at least alleviate it a bit by making calls to that function more readable. Passing some or all arguments as keyword arguments usually helps. Problem is: the caller normally has the choice how to pass the arguments. You can even call a \"keyword only\" function like this:"
   ],
   "metadata": {
    "collapsed": false,
    "pycharm": {
     "name": "#%% md\n"
    }
   }
  },
  {
   "cell_type": "code",
   "execution_count": 7,
   "outputs": [
    {
     "data": {
      "text/plain": "14"
     },
     "metadata": {},
     "output_type": "execute_result",
     "execution_count": 7
    }
   ],
   "source": [
    "def kw_only_you_wish(spam=None, eggs=None, lobster=None):\n",
    "    return spam + eggs * lobster\n",
    "\n",
    "kw_only_you_wish(2, 3 ,4)"
   ],
   "metadata": {
    "collapsed": false,
    "pycharm": {
     "name": "#%%\n",
     "is_executing": false
    }
   }
  },
  {
   "cell_type": "markdown",
   "source": [
    "With [Python3.0](https://docs.python.org/3.0/whatsnew/3.0.html#new-syntax) a new syntax was introduced to make enforcement of so called \"keyword-only arguments\" possible. This is used in the definition of the `sparkle_appender` function above. When using this, everything after the `[, ]*,` **has** to be passed as keyword argument or you get into trouble:"
   ],
   "metadata": {
    "collapsed": false,
    "pycharm": {
     "name": "#%% md\n"
    }
   }
  },
  {
   "cell_type": "code",
   "execution_count": 8,
   "outputs": [
    {
     "traceback": [
      "\u001b[0;31m---------------------------------------------------------------------------\u001b[0m",
      "\u001b[0;31mTypeError\u001b[0m                                 Traceback (most recent call last)",
      "\u001b[0;32m<ipython-input-8-c3d87fa77205>\u001b[0m in \u001b[0;36m<module>\u001b[0;34m\u001b[0m\n\u001b[0;32m----> 1\u001b[0;31m \u001b[0;34m@\u001b[0m\u001b[0msparkle_appender\u001b[0m\u001b[0;34m(\u001b[0m\u001b[0;34m\" ❈❈❈ \"\u001b[0m\u001b[0;34m)\u001b[0m\u001b[0;34m\u001b[0m\u001b[0;34m\u001b[0m\u001b[0m\n\u001b[0m\u001b[1;32m      2\u001b[0m \u001b[0;32mdef\u001b[0m \u001b[0mbadly_wrapped\u001b[0m\u001b[0;34m(\u001b[0m\u001b[0;34m)\u001b[0m\u001b[0;34m:\u001b[0m\u001b[0;34m\u001b[0m\u001b[0;34m\u001b[0m\u001b[0m\n\u001b[1;32m      3\u001b[0m     \u001b[0;32mpass\u001b[0m\u001b[0;34m\u001b[0m\u001b[0;34m\u001b[0m\u001b[0m\n\u001b[1;32m      4\u001b[0m \u001b[0;34m\u001b[0m\u001b[0m\n",
      "\u001b[0;31mTypeError\u001b[0m: sparkle_appender() takes 0 positional arguments but 1 was given"
     ],
     "ename": "TypeError",
     "evalue": "sparkle_appender() takes 0 positional arguments but 1 was given",
     "output_type": "error"
    }
   ],
   "source": [
    "@sparkle_appender(\" ❈❈❈ \")\n",
    "def badly_wrapped():\n",
    "    pass"
   ],
   "metadata": {
    "collapsed": false,
    "pycharm": {
     "name": "#%%\n",
     "is_executing": false
    }
   }
  },
  {
   "cell_type": "markdown",
   "source": [
    "### Pack and unpack arguments\n",
    "\n",
    "This goes back at least until Python2.7 and in this case &#10033; and &#10033;&#10033; are syntax elements to be used as prefix, when [defining or calling functions](https://docs.python.org/3/tutorial/controlflow.html#keyword-arguments). The idea is usually that you want to pass through parameters to an underlying function without having to care about what or even how many they are. In this example we have a function that is just passing through arguments without needing to now anything about them:"
   ],
   "metadata": {
    "collapsed": false
   }
  },
  {
   "cell_type": "code",
   "execution_count": null,
   "outputs": [],
   "source": [
    "def passing_things_through_function(*args, **kwargs):\n",
    "    print(f\"passing through {args=} and {kwargs=}\")\n",
    "    the_actual_function(*args, **kwargs)\n",
    "\n",
    "def the_actual_function(a, b, c=None, d=None):\n",
    "    print(f\"passed arguments: {a=}, {b=}, {c=}, {d=}\")\n",
    "    \n",
    "passing_things_through_function(*[1, 2], **dict(c=3, d=4))"
   ],
   "metadata": {
    "collapsed": false,
    "pycharm": {
     "name": "#%%\n",
     "is_executing": false
    }
   }
  },
  {
   "cell_type": "markdown",
   "source": [
    "A case where this is particularly useful is when creating decorators that are pretty generic in what they do (like the `sparkle_appender`). They just need to pass through whatever the decorated function needs to be called with.\n",
    "\n",
    "### There is even more to unpack\n",
    "\n",
    "In pre Python3 days Python already supported so-called tuple unpacking which made things like this possible:"
   ],
   "metadata": {
    "collapsed": false
   }
  },
  {
   "cell_type": "code",
   "execution_count": null,
   "outputs": [],
   "source": [
    "# swap the values of a and b\n",
    "a = 1\n",
    "b = 2\n",
    "a, b = b, a\n",
    "print(f\"{a=}, {b=}\")"
   ],
   "metadata": {
    "collapsed": false,
    "pycharm": {
     "name": "#%%\n",
     "is_executing": false
    }
   }
  },
  {
   "cell_type": "markdown",
   "source": [
    "[PEP 3132 - extended iterable unpacking](https://www.python.org/dev/peps/pep-3132/) brought the star into the \"classic\" tuple unpacking (which was never restricted to tuples but that name somehow stuck):\n"
   ],
   "metadata": {
    "collapsed": false,
    "pycharm": {
     "name": "#%% md\n"
    }
   }
  },
  {
   "cell_type": "code",
   "execution_count": null,
   "metadata": {
    "slideshow": {
     "slide_type": "fragment"
    },
    "pycharm": {
     "is_executing": false
    }
   },
   "outputs": [],
   "source": [
    "for iterable in [\n",
    "    \"egg\", \n",
    "    [1, 2, 3], \n",
    "    (1, 2, 3), \n",
    "    {1, 2, 3}, \n",
    "    {1: 'a', 2: 'b', 3: 'c'}\n",
    "]:\n",
    "    print(f\"{iterable} ({type(iterable)}):\")\n",
    "    a, b, c = iterable\n",
    "    print(f\"a, b, c        -> {a} {b} {c}\")\n",
    "    *a, b = iterable\n",
    "    print(f\"*a, b = iterable -> {a} {b}\")\n",
    "    a, *b = iterable\n",
    "    print(f\"a, *b = iterable -> {a} {b}\\n\")"
   ]
  },
  {
   "cell_type": "markdown",
   "source": [
    "### ... and in the other direction\n",
    "\n",
    "Pretty much analogous to how &#10033; and &#10033;&#10033; are used in function calls they can be used in literals to create new iterables or mappings:"
   ],
   "metadata": {
    "collapsed": false
   }
  },
  {
   "cell_type": "markdown",
   "source": [
    "This syntax to merge iterables was implemented via [PEP 448 (additional unpacking generalizations)](https://www.python.org/dev/peps/pep-0448/) in Python3.5[^1]. \n",
    "\n",
    "[^1]: For the historically interested: discussion on the mailing list [part I](https://mail.python.org/pipermail/python-dev/2015-February/138078.html) and [part II](https://mail.python.org/pipermail/python-dev/2015-February/138564.html). "
   ],
   "metadata": {
    "collapsed": false
   }
  },
  {
   "cell_type": "code",
   "execution_count": null,
   "outputs": [],
   "source": [
    "a, b = [1, 2, 3], [4, 5, 6]\n",
    "[*a, *b]"
   ],
   "metadata": {
    "collapsed": false,
    "pycharm": {
     "name": "#%%\n",
     "is_executing": false
    }
   }
  },
  {
   "cell_type": "code",
   "execution_count": null,
   "outputs": [],
   "source": [
    "a, b = {1: 2, 2: 3, 3: 4}, {1: 4, 4: 5, 5: 6}\n",
    "{**a, **b}"
   ],
   "metadata": {
    "collapsed": false,
    "pycharm": {
     "name": "#%%\n",
     "is_executing": false
    }
   }
  },
  {
   "cell_type": "code",
   "execution_count": null,
   "outputs": [],
   "source": [
    "a, b = {1, 2 ,3}, {3, 4 ,5}\n",
    "{*a, *b}  "
   ],
   "metadata": {
    "collapsed": false,
    "pycharm": {
     "name": "#%%\n",
     "is_executing": false
    }
   }
  },
  {
   "cell_type": "markdown",
   "source": [
    "This is the more \"natural\" approach for sets though (union):"
   ],
   "metadata": {
    "collapsed": false,
    "pycharm": {
     "name": "#%% md\n"
    }
   }
  },
  {
   "cell_type": "code",
   "execution_count": null,
   "outputs": [],
   "source": [
    "a | b  "
   ],
   "metadata": {
    "collapsed": false,
    "pycharm": {
     "name": "#%%\n",
     "is_executing": false
    }
   }
  },
  {
   "cell_type": "markdown",
   "source": [
    "As the underlying functionality only cares about whether something is iterable, you can mix and match. This creates a tuple from a list and a set:"
   ],
   "metadata": {
    "collapsed": false
   }
  },
  {
   "cell_type": "code",
   "execution_count": null,
   "outputs": [],
   "source": [
    "(*[1, 2 ,3], *{3, 4 ,5})"
   ],
   "metadata": {
    "collapsed": false,
    "pycharm": {
     "name": "#%%\n",
     "is_executing": false
    }
   }
  },
  {
   "cell_type": "markdown",
   "source": [
    "Be aware though that merging is flat - no nesting. Later keys overwrite earlier ones. Here `foo` will contain the second dict after merging:"
   ],
   "metadata": {
    "collapsed": false
   }
  },
  {
   "cell_type": "code",
   "execution_count": 1,
   "outputs": [
    {
     "data": {
      "text/plain": "{'a': 1, 'foo': {'b': 2, 'c': 3}}"
     },
     "metadata": {},
     "output_type": "execute_result",
     "execution_count": 1
    }
   ],
   "source": [
    "a = {\"a\": 1, \"foo\": { \"a\": 1}}\n",
    "b = {\"a\": 1, \"foo\": { \"b\": 2, \"c\": 3}}\n",
    "{**a, **b}"
   ],
   "metadata": {
    "collapsed": false,
    "pycharm": {
     "name": "#%%\n",
     "is_executing": false
    }
   }
  },
  {
   "cell_type": "markdown",
   "source": [
    "## Import all the things\n",
    "\n",
    "The last star shines a bit dimly as this is usually an [antipattern](http://wiki.c2.com/?AntiPattern) and it looks like this:"
   ],
   "metadata": {
    "collapsed": false,
    "pycharm": {
     "name": "#%% md\n"
    }
   }
  },
  {
   "cell_type": "code",
   "execution_count": null,
   "outputs": [],
   "source": [
    "from os import *"
   ],
   "metadata": {
    "collapsed": false,
    "pycharm": {
     "name": "#%%\n",
     "is_executing": false
    }
   }
  },
  {
   "cell_type": "markdown",
   "source": [
    "this is usually not a good idea because:\n",
    "\n",
    "* static code analysis tools can't warn you about unresolved references\n",
    "* it causes namespace pollution which might badly break your code (e.g. if a module you import all the names from redefines `open` or some other inbuilt)\n",
    "* you can't see easily from where a name was imported (like in the example above - where does `linesep` come from?)\n",
    "\n",
    "If a package (or module[^2]) is explicitly designed to be imported like this, this is usually documented and the authors defined the special module attribute   [`__all__`](https://docs.python.org/3/tutorial/modules.html?highlight=__all__#importing-from-a-package) that explicitly lists the names that should be imported when using `from <module or package> import *` \n",
    "\n",
    "[^2]: I'm either not seeing it or the Python documentation is omitting that `__all__` also works for modules. It does though ... I tried it."
   ],
   "metadata": {
    "collapsed": false,
    "pycharm": {
     "name": "#%% md\n"
    }
   }
  }
 ],
 "metadata": {
  "celltoolbar": "Slideshow",
  "kernelspec": {
   "display_name": "Python 3",
   "language": "python",
   "name": "python3"
  },
  "language_info": {
   "codemirror_mode": {
    "name": "ipython",
    "version": 3
   },
   "file_extension": ".py",
   "mimetype": "text/x-python",
   "name": "python",
   "nbconvert_exporter": "python",
   "pygments_lexer": "ipython3",
   "version": "3.6.9"
  },
  "varInspector": {
   "cols": {
    "lenName": 16,
    "lenType": 16,
    "lenVar": 40
   },
   "kernels_config": {
    "python": {
     "delete_cmd_postfix": "",
     "delete_cmd_prefix": "del ",
     "library": "var_list.py",
     "varRefreshCmd": "print(var_dic_list())"
    },
    "r": {
     "delete_cmd_postfix": ") ",
     "delete_cmd_prefix": "rm(",
     "library": "var_list.r",
     "varRefreshCmd": "cat(var_dic_list()) "
    }
   },
   "types_to_exclude": [
    "module",
    "function",
    "builtin_function_or_method",
    "instance",
    "_Feature"
   ],
   "window_display": false
  },
  "pycharm": {
   "stem_cell": {
    "cell_type": "raw",
    "source": [],
    "metadata": {
     "collapsed": false
    }
   }
  }
 },
 "nbformat": 4,
 "nbformat_minor": 2
}
