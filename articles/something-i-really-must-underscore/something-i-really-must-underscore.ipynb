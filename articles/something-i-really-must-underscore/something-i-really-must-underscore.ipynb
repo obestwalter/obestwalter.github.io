{
 "cells": [
  {
   "cell_type": "raw",
   "source": [
    "title: Something I really must underscore\n",
    "---\n",
    "ctime: 2019-11-02\n",
    "---\n",
    "mtime: 2019-11-03\n",
    "---\n",
    "tags:\n",
    "\n",
    "python\n",
    "fundamentals\n",
    "little-things\n",
    "---\n",
    "summary:\n",
    "\n",
    "[![wikipedia: underscore](wikipedia-crop-underscore.png)](https://en.wikipedia.org/wiki/Underscore)\n",
    "\n",
    "The history of the underscore goes back to mechanical typewriters as a way to combine them with text in order to ... **surprise** ... underscore text. I don't know whether it was due to inertia, backwards compatibility considerations, or the missing insight that underscoring text might work differently on computers, but whatever it was: the underscore made it into the original [US-ASCII](https://en.wikipedia.org/wiki/ASCII) character encoding standard in the 1960s and is here to stay. In Python it has also found many creative uses providing contextual information about a name.\n",
    "\n",
    "---\n",
    "content:\n"
   ],
   "metadata": {
    "collapsed": false
   }
  },
  {
   "cell_type": "markdown",
   "source": [
    "`_` doesn't look like much, but as part of a name in Python it has a surprising amount of different meanings."
   ],
   "metadata": {
    "collapsed": false
   }
  },
  {
   "cell_type": "markdown",
   "source": [
    "# Make names more readable\n",
    "\n",
    "We all know that we should use good names. This often makes it necessary to use more than one word to describe the thing. `cheese grater` is arguably a good name for a thing but it consists of two words in english[^1]. Like most programming languages Python [tokenizes](https://docs.python.org/3/library/tokenize.html#module-tokenize) source code along white space. So, for the sake of readability the system needs to be tricked into believing that several words are one while still providing some kind of visual separation for the human reader. Born were constructs like `CheeseGrater` or `cheese_grater` - a.k.a. [CamelCase](https://en.wikipedia.org/wiki/Camel_case) and [snake_case](https://en.wikipedia.org/wiki/Snake_case). \n",
    "\n",
    "[^1]: We wouldn't have a problem like that if we used german names, where this would be a `käsehobel`. Especially in german law, words like *Vermögens&shy;zuordnungs&shy;zuständigkeits&shy;übertragungs&shy;verordnung* are used unironically.\n",
    "\n",
    "The [PEP-8](https://www.python.org/dev/peps/pep-0008/) style guide is here to tell us - among other things - how to name things in a consistent manner.\n",
    "\n",
    "! I personally prefer `lowerCasedCamelCase` for local names bound to data and `snake_case` for names bound to functions. [Until 2018](https://github.com/python/peps/pull/545) I wasn't even technically violating PEP-8 when doing that. Since then I am a self confessed PEP-8 outlaw in personal projects and wherever I can get away with it."
   ],
   "metadata": {
    "collapsed": false
   }
  },
  {
   "cell_type": "markdown",
   "source": [
    "# Simply `_`: it needs a name, but I won't use it\n",
    "\n",
    "Using a single underscore as the complete name can be seen as a crutch. In certain situations it might be necessary to assign a name due to the nature of the language, but we'd rather not give it a name (because we won't even be using it anyway).\n",
    "\n",
    "## `_` as a parameter name\n",
    "\n",
    "Here we know that the function will always be called with three positional arguments but we don't need the second one:"
   ],
   "metadata": {
    "collapsed": false
   }
  },
  {
   "cell_type": "code",
   "execution_count": null,
   "outputs": [],
   "source": [
    "def spam(a, _, b):\n",
    "    return a + b\n",
    "\n",
    "spam(1, 2, 3)"
   ],
   "metadata": {
    "collapsed": false,
    "pycharm": {
     "name": "#%%\n"
    }
   }
  },
  {
   "cell_type": "markdown",
   "source": [
    "There are often more elegant ways to deal with this depending on context, but sometimes this is still the easiest way to clearly communicate this.  \n",
    "\n",
    "To take one example and offer some unasked advice we could think of a primitive home baked plugin system that simply calls the client function with positional arguments. This could be improved by always using keyword arguments like this:"
   ],
   "metadata": {
    "collapsed": false
   }
  },
  {
   "cell_type": "code",
   "execution_count": null,
   "outputs": [],
   "source": [
    "def spam(a, b, **_):\n",
    "    return a + b\n",
    "\n",
    "spam(c=10, a=2, b=3)"
   ],
   "metadata": {
    "collapsed": false,
    "pycharm": {
     "name": "#%%\n"
    }
   }
  },
  {
   "cell_type": "markdown",
   "source": [
    "This way the client function can collect whatever arrives in an un*(derscore)*named catch-all dict also having more flexibility regarding future API changes.\n",
    "\n",
    "What might be even better though is if the plugin system inspects the client function and calls it only with the requested parameters making this particular underscore crutch completely unnecessary[^2].\n",
    "\n",
    "[^2]: Have a look at [pluggy](https://github.com/pytest-dev/pluggy) if you are interested in how this is accomplished."
   ],
   "metadata": {
    "collapsed": false
   }
  },
  {
   "cell_type": "markdown",
   "source": [
    "## `_` as a local name\n",
    "\n",
    "In the next example a tuple contains several items, but we are only interested in the first and the last one, so we collect whatever is in the middle and assign it to `_`:"
   ],
   "metadata": {
    "collapsed": false
   }
  },
  {
   "cell_type": "code",
   "execution_count": null,
   "outputs": [],
   "source": [
    "left, *_, right = (0, 1, 2, 3, 4)\n",
    "left, right"
   ],
   "metadata": {
    "collapsed": false,
    "pycharm": {
     "name": "#%%\n"
    }
   }
  },
  {
   "cell_type": "markdown",
   "source": [
    "Also not uncommon: needing to repeat something a certain number of times without needing the iteration variable:"
   ],
   "metadata": {
    "collapsed": false
   }
  },
  {
   "cell_type": "code",
   "execution_count": null,
   "outputs": [],
   "source": [
    "for _ in range(3):\n",
    "    print(\"hi\", end=\"\")"
   ],
   "metadata": {
    "collapsed": false,
    "pycharm": {
     "name": "#%%\n"
    }
   }
  },
  {
   "cell_type": "markdown",
   "source": [
    "## the exception: `_` in an interactive shell\n",
    "\n",
    "There is one case where `_` can and should be used but is not manually assigned. \n",
    "\n",
    "When you type `python` on the command line you enter the so-called [REPL](https://en.wikipedia.org/wiki/Read%E2%80%93eval%E2%80%93print_loop). The underscore grows a magic functionality here by always holding the result of the last evaluation.\n",
    "\n",
    "![using underscore in a REPL](repl.png)\n",
    "\n",
    "!!! The [IPython](https://ipython.org/) interactive shell takes this two steps further - it provides the last three evaluation results in `_`, `__` and `___`."
   ],
   "metadata": {
    "collapsed": false,
    "pycharm": {
     "name": "#%% md\n"
    }
   }
  },
  {
   "cell_type": "markdown",
   "source": [
    "# `_` as prefix: this is private, please don't use it"
   ],
   "metadata": {
    "collapsed": false
   }
  },
  {
   "cell_type": "code",
   "execution_count": null,
   "outputs": [],
   "source": [
    "_private_name = \"Please don't access me from outside\""
   ],
   "metadata": {
    "collapsed": false,
    "pycharm": {
     "name": "#%%\n",
     "is_executing": false
    }
   }
  },
  {
   "cell_type": "markdown",
   "source": [
    "This has also one practical implication when used together with the [star import](/articles/python-is-made-of-star-stuff/#import-all-the-things): names that start with an underscore, are not imported in that case."
   ],
   "metadata": {
    "collapsed": false
   }
  },
  {
   "cell_type": "markdown",
   "source": [
    "# `_` as postfix: avoid shadowing of names\n",
    "\n",
    "Names in Python can be freely reassigned. This is handy, but also a source of confusion and bugs. For that reason, static code analyzers warn you when you reassign the name of an inbuilt (e.g. `id`) or a name already defined in an outer scope. If I am determined to use such a name, I simply add an underscore like `id_` - which means: I know that this is shadowing an already defined name, but I still want to use it, so I mangle it just enough to be different. I am not sure how common this practice is, but I am pretty sure I didn't come up with it myself."
   ],
   "metadata": {
    "collapsed": false
   }
  },
  {
   "cell_type": "code",
   "execution_count": null,
   "outputs": [],
   "source": [
    "id_ = 123456\n",
    "print(f\"{id(id_)=}\")"
   ],
   "metadata": {
    "collapsed": false,
    "pycharm": {
     "name": "#%%\n",
     "is_executing": false
    }
   }
  },
  {
   "cell_type": "markdown",
   "source": [
    "This is veering off the original topic a bit, but I just want to mention that whatever you do - the original object a builtin points to is never lost - just shadowed. When a module is initialized, the namespace of the `builtins`[^3] module is merged into the module. The objects can still be retrieved from `builtins` whenever necessary:\n",
    "\n",
    "[^3]: While we are talking about `builtins` in the context of underscores: the `__builtins__` attribute is already available in the module namespace but it is not recommended to use it directly as it is a [CPython implementation detail](https://docs.python.org/3/reference/executionmodel.html#builtins-and-restricted-execution)"
   ],
   "metadata": {
    "collapsed": false,
    "pycharm": {
     "name": "#%% md\n"
    }
   }
  },
  {
   "cell_type": "code",
   "execution_count": null,
   "outputs": [],
   "source": [
    "print = 2\n",
    "try:\n",
    "    print(\"This won't work!\")\n",
    "except TypeError:\n",
    "    from builtins import print as real_print\n",
    "\n",
    "    real_print(\"Told you so ...\")"
   ],
   "metadata": {
    "collapsed": false,
    "pycharm": {
     "name": "#%%\n"
    }
   }
  },
  {
   "cell_type": "code",
   "execution_count": null,
   "outputs": [],
   "source": [
    "print = real_print\n",
    "print(\"Now all is fine again.\")"
   ],
   "metadata": {
    "collapsed": false,
    "pycharm": {
     "name": "#%%\n"
    }
   }
  },
  {
   "cell_type": "markdown",
   "source": [
    "# `__` as attribute prefix: mangle the name\n",
    "\n",
    "In pairs the underscore turns from being an informal crutch to something that is part of Pythons execution model. If an object attribute starts with a double underscore (a.k.a. `dunder`), interesting things start to happen:"
   ],
   "metadata": {
    "collapsed": false
   }
  },
  {
   "cell_type": "code",
   "execution_count": 3,
   "outputs": [
    {
     "name": "stdout",
     "text": [
      "id(a)=139870914128000\nself.__spam='SPAM', id(self)=139870914128000\n"
     ],
     "output_type": "stream"
    }
   ],
   "source": [
    "class A:\n",
    "    __spam = \"SPAM\"\n",
    "    def print_spam(self):\n",
    "        print(f\"{self.__spam=}, {id(self)=}\")\n",
    "        \n",
    "a = A()\n",
    "a.print_spam()"
   ],
   "metadata": {
    "collapsed": false,
    "pycharm": {
     "name": "#%%\n",
     "is_executing": false
    }
   }
  },
  {
   "cell_type": "markdown",
   "source": [
    "Up to this point there is nothing unusual about this. When I try to access the attribute from outside though, the behaviour is different as when accessed from inside the object although `a` and `self` are the exact same object (as can be seen from the printed id):"
   ],
   "metadata": {
    "collapsed": false
   }
  },
  {
   "cell_type": "code",
   "execution_count": 4,
   "outputs": [
    {
     "name": "stdout",
     "text": [
      "id(a)=139870914128000\n"
     ],
     "output_type": "stream"
    },
    {
     "traceback": [
      "\u001b[0;31m---------------------------------------------------------------------------\u001b[0m",
      "\u001b[0;31mAttributeError\u001b[0m                            Traceback (most recent call last)",
      "\u001b[0;32m<ipython-input-4-1a8412468a2e>\u001b[0m in \u001b[0;36m<module>\u001b[0;34m\u001b[0m\n\u001b[1;32m      1\u001b[0m \u001b[0mprint\u001b[0m\u001b[0;34m(\u001b[0m\u001b[0;34mf\"{id(a)=}\"\u001b[0m\u001b[0;34m)\u001b[0m\u001b[0;34m\u001b[0m\u001b[0;34m\u001b[0m\u001b[0m\n\u001b[0;32m----> 2\u001b[0;31m \u001b[0ma\u001b[0m\u001b[0;34m.\u001b[0m\u001b[0m__spam\u001b[0m\u001b[0;34m\u001b[0m\u001b[0;34m\u001b[0m\u001b[0m\n\u001b[0m\u001b[1;32m      3\u001b[0m \u001b[0;34m\u001b[0m\u001b[0m\n",
      "\u001b[0;31mAttributeError\u001b[0m: 'A' object has no attribute '__spam'"
     ],
     "ename": "AttributeError",
     "evalue": "'A' object has no attribute '__spam'",
     "output_type": "error"
    }
   ],
   "source": [
    "print(f\"{id(a)=}\")\n",
    "a.__spam"
   ],
   "metadata": {
    "collapsed": false,
    "pycharm": {
     "name": "#%%\n",
     "is_executing": false
    }
   }
  },
  {
   "cell_type": "markdown",
   "source": [
    "To access the original attribute, I have to know the secret name mangling formula which simplified is `_<class name><attribute name>`:"
   ],
   "metadata": {
    "collapsed": false
   }
  },
  {
   "cell_type": "code",
   "source": [
    "a._A__spam"
   ],
   "metadata": {
    "collapsed": false,
    "pycharm": {
     "name": "#%%\n",
     "is_executing": false
    }
   },
   "execution_count": 5,
   "outputs": [
    {
     "data": {
      "text/plain": "'SPAM'"
     },
     "metadata": {},
     "output_type": "execute_result",
     "execution_count": 5
    }
   ]
  },
  {
   "cell_type": "markdown",
   "source": [
    "The [Python docs](https://docs.python.org/3/tutorial/classes.html#private-variables) have this to say about it:\n",
    "\n",
    "> Since there is a valid use-case for class-private members (namely to avoid name clashes of names with names defined by subclasses), there is limited support for such a mechanism, called name mangling. Any identifier of the form `__spam` (at least two leading underscores, at most one trailing underscore) is textually replaced with `_classname__spam`, where classname is the current class name with leading underscore(s) stripped. This mangling is done without regard to the syntactic position of the identifier, as long as it occurs within the definition of a class.\n",
    ">\n",
    "> Name mangling is helpful for letting subclasses override methods without breaking intraclass method calls.\n",
    "\n",
    "# `__magic__`: part of the language mechanics\n",
    "\n",
    "When something starts and ends with a double underscore things get really serious. [Special methods](https://docs.python.org/3/reference/datamodel.html#special-method-names) and [special attributes](https://docs.python.org/3/reference/import.html#import-related-module-attributes) are everywhere and they are a big part of Pythons special sauce. \n",
    "\n",
    "It starts with simple module attributes that reveal information about state and internals (e.g. `__name__` and `__file__`) and ends with protocols that can be used to hook into the language mechanics like e.g. creating a context manager by implementing [`__enter__` and `__exit__`](https://docs.python.org/3/reference/datamodel.html#with-statement-context-managers) on an object.\n",
    "\n",
    "I won't go into more details here as this would far exceed the scope of this innocent little article about the underscore, but I'll leave a warning here:\n",
    "\n",
    "!!!! This kind of naming scheme should be regarded as strictly Python internal. You usually don't want to use this for names in your own programs (there are exceptions to that rule though as usual[^4]).\n",
    "\n",
    "Enough underscores for today, I would say. If you know of other conventions and uses of the underscore, please [let me know](/about/#get-in-touch).\n",
    "\n",
    "[^4]: See e.g. pytest using `__tracebackhide__` as a function local name in order to instruct pytest to [hide a function from a traceback](https://docs.pytest.org/en/latest/example/simple.html#writing-well-integrated-assertion-helpers)"
   ],
   "metadata": {
    "collapsed": false,
    "pycharm": {
     "name": "#%% md\n"
    }
   }
  }
 ],
 "metadata": {
  "celltoolbar": "Slideshow",
  "kernelspec": {
   "display_name": "Python 3",
   "language": "python",
   "name": "python3"
  },
  "language_info": {
   "codemirror_mode": {
    "name": "ipython",
    "version": 3
   },
   "file_extension": ".py",
   "mimetype": "text/x-python",
   "name": "python",
   "nbconvert_exporter": "python",
   "pygments_lexer": "ipython3",
   "version": "3.6.9"
  },
  "varInspector": {
   "cols": {
    "lenName": 16,
    "lenType": 16,
    "lenVar": 40
   },
   "kernels_config": {
    "python": {
     "delete_cmd_postfix": "",
     "delete_cmd_prefix": "del ",
     "library": "var_list.py",
     "varRefreshCmd": "print(var_dic_list())"
    },
    "r": {
     "delete_cmd_postfix": ") ",
     "delete_cmd_prefix": "rm(",
     "library": "var_list.r",
     "varRefreshCmd": "cat(var_dic_list()) "
    }
   },
   "types_to_exclude": [
    "module",
    "function",
    "builtin_function_or_method",
    "instance",
    "_Feature"
   ],
   "window_display": false
  },
  "pycharm": {
   "stem_cell": {
    "cell_type": "raw",
    "source": [],
    "metadata": {
     "collapsed": false
    }
   }
  }
 },
 "nbformat": 4,
 "nbformat_minor": 2
}
